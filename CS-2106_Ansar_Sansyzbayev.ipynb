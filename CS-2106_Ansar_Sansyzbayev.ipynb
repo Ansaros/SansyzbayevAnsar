{
  "cells": [
    {
      "cell_type": "markdown",
      "metadata": {},
      "source": [
        "# Big Data in Law Enforcement"
      ]
    },
    {
      "cell_type": "markdown",
      "metadata": {},
      "source": [
        "## Introduction\n",
        "Big data is a structured and unstructured data used to obtain certain information.Cybersecurity is a process for protecting systems and information."
      ]
    },
    {
      "cell_type": "markdown",
      "metadata": {},
      "source": [
        "I writed introduction in H2 with explanation about big data and cybersecurity. After 3 popular languages and commonly used libaries and tools by data scientist. After i show arithmetic expressions in Python and created a function that convert minutes to hours."
      ]
    },
    {
      "cell_type": "markdown",
      "metadata": {},
      "source": [
        "### Some of the popular languages that Data Scientists use are:\n",
        "1. Python\n",
        "2. SQL\n",
        "3. Java\n"
      ]
    },
    {
      "cell_type": "markdown",
      "metadata": {},
      "source": [
        "### Some of the commonly used libraries used by Data Scientist include:\n",
        "1. Matplotlib\n",
        "2. TensorFlow\n",
        "3. Pandas"
      ]
    },
    {
      "cell_type": "markdown",
      "metadata": {
        "tags": []
      },
      "source": [
        "# Data Science tools\n",
        "- Jupyter Notebook\n",
        "- Anaconda\n",
        "- RStudio"
      ]
    },
    {
      "cell_type": "markdown",
      "metadata": {},
      "source": [
        "### Below are a few examples of evaluating arithmetic expressions in Python.\n",
        "- a = 5 + 4\n",
        "- b = 9-7\n",
        "- c = 4*5\n",
        "- d= 10/2"
      ]
    },
    {
      "cell_type": "code",
      "execution_count": 3,
      "metadata": {
        "trusted": true
      },
      "outputs": [
        {
          "name": "stdout",
          "output_type": "stream",
          "text": [
            "This is a simple arithmetic expression\n",
            "33\n"
          ]
        }
      ],
      "source": [
        "print(\"This is a simple arithmetic expression\")\n",
        "a=(4*6)+9\n",
        "print(a)"
      ]
    },
    {
      "cell_type": "code",
      "execution_count": 4,
      "metadata": {},
      "outputs": [
        {
          "name": "stdout",
          "output_type": "stream",
          "text": [
            "5.0\n"
          ]
        }
      ],
      "source": [
        "smth = float(input())\n",
        "time=smth/60\n",
        "print(time)"
      ]
    },
    {
      "cell_type": "markdown",
      "metadata": {},
      "source": [
        "## Author\n",
        "Ansar Sansyzbayev"
      ]
    }
  ],
  "metadata": {
    "kernelspec": {
      "display_name": "Python 3",
      "language": "python",
      "name": "python3"
    },
    "language_info": {
      "codemirror_mode": {
        "name": "ipython",
        "version": 3
      },
      "file_extension": ".py",
      "mimetype": "text/x-python",
      "name": "python",
      "nbconvert_exporter": "python",
      "pygments_lexer": "ipython3",
      "version": "3.10.11"
    }
  },
  "nbformat": 4,
  "nbformat_minor": 4
}
